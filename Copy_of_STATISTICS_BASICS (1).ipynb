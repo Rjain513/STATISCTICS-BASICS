{
  "nbformat": 4,
  "nbformat_minor": 0,
  "metadata": {
    "colab": {
      "provenance": []
    },
    "kernelspec": {
      "name": "python3",
      "display_name": "Python 3"
    },
    "language_info": {
      "name": "python"
    }
  },
  "cells": [
    {
      "cell_type": "code",
      "execution_count": null,
      "metadata": {
        "id": "SApzHXb-N4fk"
      },
      "outputs": [],
      "source": []
    },
    {
      "cell_type": "markdown",
      "source": [
        "#1 What is statistics, and why is it important?\n",
        "#1 Statistics is the science of collecting and analyzing data to draw meaningful conclusions. It's crucial for informed decisions in fields like science, business, and healthcare, helping us understand trends, solve problems, and navigate our data-driven world.\n",
        "\n",
        "#2 What are the two main types of statistics?\n",
        "#2 he two main types of statistics are:\n",
        "Descriptive statistics: Summarizes and describes data (e.g., mean, median).\n",
        "Inferential statistics: Draws conclusions about a population based on a sample of data.\n",
        "\n",
        "#3 What are descriptive statistics?\n",
        "#3 Descriptive statistics: Summarizes and describes data (e.g., mean, median).\n",
        "\n",
        "#4 What is inferential statistics?\n",
        "#4 Inferential statistics: Draws conclusions about a population based on a sample of data\n",
        "\n",
        "#5 What is sampling in statistics?\n",
        "#5 In statistics, sampling is the process of selecting a subset (sample) from a larger group (population) to analyze and make inferences about the entire population. This saves time and resources.\n",
        "\n",
        "#6 What are the different types of sampling methods?\n",
        "#6 Sampling methods include:\n",
        "Probability sampling: (random, stratified, cluster, systematic) ensures every element has a known chance of selection.\n",
        "Non-probability sampling: (convenience, purposive, quota, snowball) selects based on availability or specific criteria, potentially introducing bias.\n",
        "\n",
        "#7 What is the difference between random and non-random sampling?\n",
        "#7Random sampling:\n",
        "Every member of the population has an equal chance of being chosen.\n",
        "Aims to minimize bias and create a representative sample, allowing for generalizations about the entire population.\n",
        "Non-random sampling:\n",
        "Selection is based on factors like convenience or researcher judgment.\n",
        "Higher risk of bias, and results may not accurately reflect the whole population.\n",
        "\n",
        "#8 Define and give examples of qualitative and quantitative data.\n",
        "#8 Quantitative data: Numerical data representing counts or measurements. Examples: age (25 years), height (1.75 meters), number of students (30).\n",
        "Qualitative data: Categorical data describing qualities or characteristics. Examples: eye color (blue, brown), opinions (agree, disagree), types of fruit (apple, banana).\n",
        "\n",
        "#9 What are the different types of data in statistics?\n",
        "#9 Quantitative: Numerical data, either discrete (counts, e.g., number of cars) or continuous (measurements, e.g., temperature).\n",
        "Qualitative (Categorical): Non-numerical data, either nominal (unordered categories, e.g., colors) or ordinal (ordered categories, e.g., ratings).\n",
        "\n",
        "#10  Explain nominal, ordinal, interval, and ratio levels of measurement?\n",
        "#10 Nominal: Categories with no order (e.g., colors, gender).\n",
        "Ordinal: Ordered categories, but intervals are uneven (e.g., rankings, satisfaction ratings).\n",
        "Interval: Ordered, equal intervals, but no true zero (e.g., temperature in Celsius).\n",
        "Ratio: Ordered, equal intervals, and a true zero point (e.g., height, weight, income).\n",
        "Nominal and ordinal are qualitative, while interval and ratio are quantitative.\n",
        "Higher levels possess properties of lower levels, enabling more advanced statistical analyses.\n",
        "\n",
        "#11 What is the measure of central tendency?\n",
        "#11 Measures of central tendency describe the typical value of a dataset. Common measures include the mean (average), median (middle value), and mode (most frequent value), each offering different insights into the data's center.\n",
        "\n",
        "#12  Define mean, median, and mode?\n",
        "#12 Mean: The average, calculated by summing all values and dividing by the count.\n",
        "Median: The middle value when data is ordered.\n",
        "Mode: The most frequently occurring value in a dataset.\n",
        "\n",
        "#13 What is the significance of the measure of central tendency?\n",
        "#13 Measures of central tendency summarize a dataset's typical value, offering a quick understanding of its center. The mean, median, and mode help identify patterns, compare datasets, and make informed decisions by providing a representative value.\n",
        "\n",
        "#14 What is variance, and how is it calculated?\n",
        "#14 In statistics, variance is a measure of how spread out a set of data is. More specifically, it quantifies the degree of dispersion of data points around their mean (average). In simpler terms, it tells you how much the individual data points deviate from the average\n",
        "\n",
        "#15 What is standard deviation, and why is it important?\n",
        "#15 Standard deviation measures the amount of variation or dispersion in a dataset. It indicates how much data points deviate from the mean. A low standard deviation means data is clustered closely; a high one, spread out. It's crucial for understanding data reliability and variability.\n",
        "\n",
        "#16  Define and explain the term range in statistics?\n",
        "#16 In statistics, the range is the simplest measure of variability. It's the difference between the largest and smallest values in a dataset. Calculated by subtracting the minimum value from the maximum value, the range provides a quick, albeit rough, estimate of data spread. However, it's highly sensitive to outliers.\n",
        "\n",
        "#17 What is the difference between variance and standard deviation?\n",
        "#17 Variance measures the average squared deviation from the mean, while standard deviation is the square root of variance. Standard deviation is\n",
        "in the same units as the data, making it more interpretable, while variance is in squared units, useful for certain calculations.\n",
        "\n",
        "#18 What is skewness in a datase?\n",
        "#18 In statistics, skewness describes the asymmetry of a data distribution. It indicates if data is concentrated on one side of the mean. Positive skew has a long right tail; negative skew, a long left tail. Zero skew is symmetrical. Essentially, it reveals if data is lopsided.\n",
        "\n",
        "#19 What does it mean if a dataset is positively or negatively skewed?\n",
        "#19 Positively skewed (right-skewed): The tail extends towards higher values. The mean is greater than the median. This indicates more lower values and a few unusually high values.\n",
        "Negatively skewed (left-skewed): The tail extends towards lower values. The mean is less than the median. This means more higher values and a few unusually low values.\n",
        "\n",
        "#20 Define and explain kurtosis.\n",
        "#20 Kurtosis describes the \"tailedness\" of a distribution. High kurtosis means heavy tails and a sharp peak; low kurtosis, lighter tails and a flatter peak. It indicates outlier presence and distribution shape.\n",
        "\n",
        "#21 What is the purpose of covariance?\n",
        "#21 Covariance measures the degree to which two variables change together. A positive covariance indicates they tend to increase or decrease together, while a negative covariance suggests they move in opposite directions. It reveals the direction of a linear relationship, though not its strength\n",
        "\n",
        "#22 What does correlation measure in statistics?\n",
        "#22 Correlation measures the strength and direction of a linear relationship between two variables. It ranges from -1 to +1. +1 indicates a perfect positive correlation, -1 a perfect negative correlation, and 0 no linear correlation. It helps determine if variables move together\n",
        "\n",
        "#23 What is the difference between covariance and correlation?\n",
        "#23 Covariance indicates the direction of a linear relationship between two variables, but its magnitude is hard to interpret. Correlation standardizes covariance, providing a value between -1 and +1, which represents both the strength and direction of the linear relationship. Correlation is easier to interpret and compare across datasets.\n",
        "\n",
        "#24 What are some real-world applications of statistics?\n",
        "#24 tatistics are vital across numerous fields. In healthcare, they analyze patient data to improve treatments. In business, they predict market trends and optimize sales. In finance, they assess risk and manage investments. Environmental science uses statistics to model climate change. Governments use them for policy decisions, like resource allocation. Marketing employs statistics to understand consumer behavior. In sports, it's used for performance analysis. Quality control in manufacturing relies on statistics to ensure product consistency. Essentially, statistics helps us make informed decisions and understand patterns in nearly every aspect of life.\n",
        "\n",
        "\n",
        "\n"
      ],
      "metadata": {
        "id": "xJW70UBKPVjA"
      }
    },
    {
      "cell_type": "code",
      "source": [
        "#1 5 How do you calculate the mean, median, and mode of a dataset?\n",
        "import statistics\n",
        "\n",
        "data = [12, 16, 20, 20, 12, 30, 25, 23, 24, 20]\n",
        "\n",
        "# Calculate the mean\n",
        "mean = statistics.mean(data)\n",
        "print(f\"Mean: {mean}\")\n",
        "\n",
        "# Calculate the median\n",
        "median = statistics.median(data)\n",
        "print(f\"Median: {median}\")\n",
        "\n",
        "# Calculate the mode\n",
        "try:\n",
        "    mode = statistics.mode(data)\n",
        "    print(f\"Mode: {mode}\")\n",
        "except statistics.StatisticsError:\n",
        "    print(\"No unique mode found\")\n",
        "\n",
        "#in cases where there are multiple modes, statistics.multimode can be used.\n",
        "mode_list = statistics.multimode(data)\n",
        "print(f\"Modes: {mode_list}\")"
      ],
      "metadata": {
        "colab": {
          "base_uri": "https://localhost:8080/"
        },
        "id": "y2QcCDuvL5wz",
        "outputId": "9652abbb-8575-4c62-824c-bb5bbd468b11"
      },
      "execution_count": null,
      "outputs": [
        {
          "output_type": "stream",
          "name": "stdout",
          "text": [
            "Mean: 20.2\n",
            "Median: 20.0\n",
            "Mode: 20\n",
            "Modes: [20]\n"
          ]
        }
      ]
    },
    {
      "cell_type": "markdown",
      "source": [],
      "metadata": {
        "id": "8d3QJtJIPP3B"
      }
    },
    {
      "cell_type": "code",
      "source": [
        "#2 Write a Python program to compute the variance and standard deviation of a dataset\n",
        "import numpy as np\n",
        "\n",
        "def calculate_variance_std(data):\n",
        "\n",
        "\n",
        "  if not data:\n",
        "    return None, None\n",
        "  data_array = np.array(data)\n",
        "\n",
        "  variance = np.var(data_array)\n",
        "  std_deviation = np.std(data_array)\n",
        "\n",
        "  return variance, std_deviation\n",
        "\n",
        "\n",
        "dataset = [12, 16, 20, 20, 12, 30, 25, 23, 24, 20]\n",
        "\n",
        "variance, std_deviation = calculate_variance_std(dataset)\n",
        "\n",
        "if variance is not None and std_deviation is not None:\n",
        "  print(f\"Variance: {variance}\")\n",
        "  print(f\"Standard Deviation: {std_deviation}\")\n",
        "else:\n",
        "  print(\"Cannot calculate variance and standard deviation for an empty dataset.\")\n",
        "\n"
      ],
      "metadata": {
        "colab": {
          "base_uri": "https://localhost:8080/"
        },
        "id": "ko0yotSrNBAB",
        "outputId": "c0ccac69-d001-47d2-daed-d7f637614b18"
      },
      "execution_count": null,
      "outputs": [
        {
          "output_type": "stream",
          "name": "stdout",
          "text": [
            "Variance: 29.360000000000003\n",
            "Standard Deviation: 5.418486873657627\n"
          ]
        }
      ]
    },
    {
      "cell_type": "code",
      "source": [
        "#3 Create a dataset and classify it into nominal, ordinal, interval, and ratio types?\n",
        "import pandas as pd\n",
        "\n",
        "# Creating a sample dataset\n",
        "data = {\n",
        "    'StudentID': [101, 102, 103, 104, 105],  # Nominal\n",
        "    'Grade': ['A', 'B', 'C', 'B', 'A'],       # Ordinal\n",
        "    'Temperature(°C)': [22.5, 23.0, 21.8, 24.1, 22.9], # Interval\n",
        "    'ExamScore(%)': [85, 78, 65, 80, 92],    # Ratio\n",
        "    'City': ['New York', 'London','Tokyo','Paris','Berlin'], # Nominal\n",
        "    'Ranking': [1,3,2,5,4], # Ordinal\n",
        "    'Year': [2020, 2021, 2022, 2023, 2024], # Interval, or Ratio depending on context.\n",
        "    'Weight(kg)': [65.2, 70.0, 58.5, 75.3, 62.8] # Ratio\n",
        "}\n",
        "\n",
        "df = pd.DataFrame(data)\n",
        "\n",
        "print(df)\n",
        "\n",
        "\n",
        "\n",
        "print(\"\\nData Type Classification:\")\n",
        "print(\"StudentID: Nominal (unique identifier)\")\n",
        "print(\"Grade: Ordinal (ordered categories)\")\n",
        "print(\"Temperature(°C): Interval (meaningful differences, no true zero)\")\n",
        "print(\"ExamScore(%): Ratio (meaningful differences, true zero)\")\n",
        "print(\"City: Nominal (categories, no order)\")\n",
        "print(\"Ranking: Ordinal (ordered positions)\")\n",
        "print(\"Year: Interval or Ratio (Interval: Differences are meaningful, but zero point is arbitrary. Ratio: if years are considered as durations, then ratio.)\")\n",
        "print(\"Weight(kg): Ratio (meaningful differences, true zero)\")"
      ],
      "metadata": {
        "colab": {
          "base_uri": "https://localhost:8080/"
        },
        "id": "fsFXE56aNcmx",
        "outputId": "d0d9aeee-06f4-413c-8169-7854f356b3b0"
      },
      "execution_count": null,
      "outputs": [
        {
          "output_type": "stream",
          "name": "stdout",
          "text": [
            "   StudentID Grade  Temperature(°C)  ExamScore(%)      City  Ranking  Year  \\\n",
            "0        101     A             22.5            85  New York        1  2020   \n",
            "1        102     B             23.0            78    London        3  2021   \n",
            "2        103     C             21.8            65     Tokyo        2  2022   \n",
            "3        104     B             24.1            80     Paris        5  2023   \n",
            "4        105     A             22.9            92    Berlin        4  2024   \n",
            "\n",
            "   Weight(kg)  \n",
            "0        65.2  \n",
            "1        70.0  \n",
            "2        58.5  \n",
            "3        75.3  \n",
            "4        62.8  \n",
            "\n",
            "Data Type Classification:\n",
            "StudentID: Nominal (unique identifier)\n",
            "Grade: Ordinal (ordered categories)\n",
            "Temperature(°C): Interval (meaningful differences, no true zero)\n",
            "ExamScore(%): Ratio (meaningful differences, true zero)\n",
            "City: Nominal (categories, no order)\n",
            "Ranking: Ordinal (ordered positions)\n",
            "Year: Interval or Ratio (Interval: Differences are meaningful, but zero point is arbitrary. Ratio: if years are considered as durations, then ratio.)\n",
            "Weight(kg): Ratio (meaningful differences, true zero)\n"
          ]
        }
      ]
    },
    {
      "cell_type": "code",
      "source": [
        "#4  Implement sampling techniques like random sampling and stratified sampling?\n",
        "import pandas as pd\n",
        "import numpy as np\n",
        "from sklearn.model_selection import train_test_split\n",
        "\n",
        "def random_sampling(data, sample_size):\n",
        "\n",
        "    if sample_size > len(data):\n",
        "        return \"Sample size exceeds dataset size.\"\n",
        "    return data.sample(n=sample_size, random_state=42)\n",
        "\n",
        "def stratified_sampling(data, stratify_column, sample_size):\n",
        "\n",
        "    if stratify_column not in data.columns:\n",
        "        return f\"Column '{stratify_column}' not found in the dataset.\"\n",
        "\n",
        "    if sample_size > len(data):\n",
        "        return \"Sample size exceeds dataset size.\"\n",
        "\n",
        "\n",
        "    strata_counts = data[stratify_column].value_counts()\n",
        "    strata_proportions = strata_counts / len(data)\n",
        "    strata_sample_sizes = (strata_proportions * sample_size).astype(int)\n",
        "\n",
        "\n",
        "    diff = sample_size - strata_sample_sizes.sum()\n",
        "    if diff != 0:\n",
        "        strata_sample_sizes[strata_sample_sizes.idxmax()] += diff #add or substract to the biggest stratum.\n",
        "\n",
        "    sampled_data = pd.DataFrame()\n",
        "    for stratum, size in strata_sample_sizes.items():\n",
        "        sampled_data = pd.concat([sampled_data, data[data[stratify_column] == stratum].sample(n=size, random_state=42)])\n",
        "\n",
        "    return sampled_data\n",
        "\n",
        "# Example Usage:\n",
        "data = pd.DataFrame({\n",
        "    'ID': range(1, 21),\n",
        "    'Category': ['A', 'B', 'A', 'C', 'B', 'A', 'C', 'B', 'A', 'C',\n",
        "                 'A', 'B', 'A', 'C', 'B', 'A', 'C', 'B', 'A', 'C'],\n",
        "    'Value': np.random.randint(1, 100, 20)\n",
        "})\n",
        "\n",
        "print(\"Original Data:\\n\", data)\n",
        "\n",
        "# Random Sampling\n",
        "random_sample = random_sampling(data, sample_size=8)\n",
        "print(\"\\nRandom Sample:\\n\", random_sample)\n",
        "\n",
        "# Stratified Sampling\n",
        "stratified_sample = stratified_sampling(data, stratify_column='Category', sample_size=9)\n",
        "print(\"\\nStratified Sample:\\n\", stratified_sample)\n",
        "\n",
        "# Using sklearn train_test_split for simple random sampling and stratified sampling.\n",
        "train_random, test_random = train_test_split(data, train_size=0.4, random_state=42)\n",
        "print(\"\\nRandom sample using sklearn train_test_split:\\n\", train_random)\n",
        "\n",
        "train_stratified, test_stratified = train_test_split(data, train_size=0.4, stratify=data['Category'], random_state=42)\n",
        "print(\"\\nStratified Sample using sklearn train_test_split:\\n\", train_stratified)"
      ],
      "metadata": {
        "colab": {
          "base_uri": "https://localhost:8080/"
        },
        "id": "QL3fLekqN5TK",
        "outputId": "d8460711-5e99-46cf-cbbb-96d94e4cea3f"
      },
      "execution_count": null,
      "outputs": [
        {
          "output_type": "stream",
          "name": "stdout",
          "text": [
            "Original Data:\n",
            "     ID Category  Value\n",
            "0    1        A      9\n",
            "1    2        B     62\n",
            "2    3        A     37\n",
            "3    4        C     97\n",
            "4    5        B     51\n",
            "5    6        A     44\n",
            "6    7        C     24\n",
            "7    8        B     79\n",
            "8    9        A     59\n",
            "9   10        C     32\n",
            "10  11        A     96\n",
            "11  12        B     88\n",
            "12  13        A     52\n",
            "13  14        C     62\n",
            "14  15        B     58\n",
            "15  16        A     52\n",
            "16  17        C     12\n",
            "17  18        B     39\n",
            "18  19        A      2\n",
            "19  20        C      3\n",
            "\n",
            "Random Sample:\n",
            "     ID Category  Value\n",
            "0    1        A      9\n",
            "17  18        B     39\n",
            "15  16        A     52\n",
            "1    2        B     62\n",
            "8    9        A     59\n",
            "5    6        A     44\n",
            "11  12        B     88\n",
            "3    4        C     97\n",
            "\n",
            "Stratified Sample:\n",
            "     ID Category  Value\n",
            "2    3        A     37\n",
            "12  13        A     52\n",
            "0    1        A      9\n",
            "18  19        A      2\n",
            "5    6        A     44\n",
            "1    2        B     62\n",
            "4    5        B     51\n",
            "3    4        C     97\n",
            "6    7        C     24\n",
            "\n",
            "Random sample using sklearn train_test_split:\n",
            "     ID Category  Value\n",
            "9   10        C     32\n",
            "19  20        C      3\n",
            "4    5        B     51\n",
            "12  13        A     52\n",
            "7    8        B     79\n",
            "10  11        A     96\n",
            "14  15        B     58\n",
            "6    7        C     24\n",
            "\n",
            "Stratified Sample using sklearn train_test_split:\n",
            "     ID Category  Value\n",
            "3    4        C     97\n",
            "12  13        A     52\n",
            "13  14        C     62\n",
            "19  20        C      3\n",
            "18  19        A      2\n",
            "4    5        B     51\n",
            "11  12        B     88\n",
            "2    3        A     37\n"
          ]
        }
      ]
    },
    {
      "cell_type": "code",
      "source": [
        "#5 Write a Python function to calculate the range of a dataset?\n",
        "def calculate_range(data):\n",
        "\n",
        "  if not data:\n",
        "    return None\n",
        "\n",
        "  min_val = min(data)\n",
        "  max_val = max(data)\n",
        "  range_val = max_val - min_val\n",
        "  return range_val\n",
        "\n",
        "# Example usage:\n",
        "dataset = [12, 16, 20, 20, 12, 30, 25, 23, 24, 20]\n",
        "dataset2 = []\n",
        "range_result = calculate_range(dataset)\n",
        "range_empty = calculate_range(dataset2)\n",
        "\n",
        "if range_result is not None:\n",
        "    print(f\"The range of the dataset is: {range_result}\")\n",
        "else:\n",
        "    print(\"Cannot calculate range for an empty dataset.\")\n",
        "\n",
        "if range_empty is not None:\n",
        "    print(f\"The range of the empty dataset is: {range_empty}\")\n",
        "else:\n",
        "    print(\"Cannot calculate range for an empty dataset.\")"
      ],
      "metadata": {
        "colab": {
          "base_uri": "https://localhost:8080/"
        },
        "id": "0EBj71nhOXZh",
        "outputId": "980d66e7-4de2-4c99-efaf-32631621ae9f"
      },
      "execution_count": null,
      "outputs": [
        {
          "output_type": "stream",
          "name": "stdout",
          "text": [
            "The range of the dataset is: 18\n",
            "Cannot calculate range for an empty dataset.\n"
          ]
        }
      ]
    },
    {
      "cell_type": "code",
      "source": [
        "#6 Create a dataset and plot its histogram to visualize skewness?\n",
        "import numpy as np\n",
        "import matplotlib.pyplot as plt\n",
        "import pandas as pd\n",
        "\n",
        "\n",
        "right_skewed_data = np.random.exponential(scale=2.0, size=1000)\n",
        "\n",
        "\n",
        "left_skewed_data = 10 - np.random.exponential(scale=2.0, size=1000)\n",
        "\n",
        "\n",
        "symmetrical_data = np.random.normal(loc=5, scale=2, size=1000)\n",
        "\n",
        "\n",
        "df = pd.DataFrame({\n",
        "    'Right Skewed': right_skewed_data,\n",
        "    'Left Skewed': left_skewed_data,\n",
        "    'Symmetrical': symmetrical_data\n",
        "})\n",
        "\n",
        "\n",
        "plt.figure(figsize=(15, 5))\n",
        "\n",
        "plt.subplot(1, 3, 1)\n",
        "plt.hist(df['Right Skewed'], bins=30, alpha=0.7, color='skyblue')\n",
        "plt.title('Right Skewed Histogram')\n",
        "plt.xlabel('Value')\n",
        "plt.ylabel('Frequency')\n",
        "\n",
        "plt.subplot(1, 3, 2)\n",
        "plt.hist(df['Left Skewed'], bins=30, alpha=0.7, color='salmon')\n",
        "plt.title('Left Skewed Histogram')\n",
        "plt.xlabel('Value')\n",
        "plt.ylabel('Frequency')\n",
        "\n",
        "plt.subplot(1, 3, 3)\n",
        "plt.hist(df['Symmetrical'], bins=30, alpha=0.7, color='lightgreen')\n",
        "plt.title('Symmetrical Histogram')\n",
        "plt.xlabel('Value')\n",
        "plt.ylabel('Frequency')\n",
        "\n",
        "plt.tight_layout()\n",
        "plt.show()\n",
        "\n",
        "# Calculate skewness values\n",
        "print(f\"Right Skewed Skewness: {df['Right Skewed'].skew()}\")\n",
        "print(f\"Left Skewed Skewness: {df['Left Skewed'].skew()}\")\n",
        "print(f\"Symmetrical Skewness: {df['Symmetrical'].skew()}\")"
      ],
      "metadata": {
        "colab": {
          "base_uri": "https://localhost:8080/",
          "height": 450
        },
        "id": "HpYY5pf_OmPp",
        "outputId": "c55cae9a-3275-41dd-899c-e2086e22870c"
      },
      "execution_count": null,
      "outputs": [
        {
          "output_type": "display_data",
          "data": {
            "text/plain": [
              "<Figure size 1500x500 with 3 Axes>"
            ],
            "image/png": "[encoded data removed]"
          },
          "metadata": {}
        },
        {
          "output_type": "stream",
          "name": "stdout",
          "text": [
            "Right Skewed Skewness: 1.9067189712265704\n",
            "Left Skewed Skewness: -1.9706981371507146\n",
            "Symmetrical Skewness: -0.08160899551663067\n"
          ]
        }
      ]
    },
    {
      "cell_type": "code",
      "source": [
        "#7  Calculate skewness and kurtosis of a dataset using Python libraries?\n",
        "import numpy as np\n",
        "import pandas as pd\n",
        "from scipy.stats import skew, kurtosis\n",
        "\n",
        "# Sample dataset\n",
        "data = [88, 85, 82, 97, 67, 77, 74, 86, 81, 95, 77, 88, 85, 76, 81]\n",
        "\n",
        "\n",
        "sample_skewness = skew(data, bias=False)\n",
        "print(f\"Sample Skewness: {sample_skewness:.6f}\")\n",
        "\n",
        "\n",
        "sample_kurtosis = kurtosis(data, bias=False)\n",
        "print(f\"Sample Kurtosis: {sample_kurtosis:.6f}\")\n"
      ],
      "metadata": {
        "colab": {
          "base_uri": "https://localhost:8080/"
        },
        "id": "y1Qe6k9fPBlq",
        "outputId": "044e660f-8bce-4a04-915b-fd999c1d80ed"
      },
      "execution_count": null,
      "outputs": [
        {
          "output_type": "stream",
          "name": "stdout",
          "text": [
            "Sample Skewness: 0.032697\n",
            "Sample Kurtosis: 0.118157\n"
          ]
        }
      ]
    },
    {
      "cell_type": "code",
      "source": [
        "#8 Generate a dataset and demonstrate positive and negative skewness?\n",
        "import numpy as np\n",
        "import matplotlib.pyplot as plt\n",
        "from scipy.stats import skew\n",
        "\n",
        "# Set random seed for reproducibility\n",
        "np.random.seed(42)\n",
        "\n",
        "# Positive Skewness (Right Skewed)\n",
        "data_positive_skew = np.random.exponential(scale=2, size=1000)\n",
        "\n",
        "# Negative Skewness (Left Skewed)\n",
        "data_negative_skew = -np.random.exponential(scale=2, size=1000) + 10  # Shift to make it positive\n",
        "\n",
        "# Calculate skewness\n",
        "positive_skewness = skew(data_positive_skew)\n",
        "negative_skewness = skew(data_negative_skew)\n",
        "\n",
        "print(f\"Positive Skewness: {positive_skewness:.6f}\")\n",
        "print(f\"Negative Skewness: {negative_skewness:.6f}\")\n",
        "\n",
        "# Plotting the distributions\n",
        "plt.figure(figsize=(12, 6))\n",
        "\n",
        "# Positive Skewness\n",
        "plt.subplot(1, 2, 1)\n",
        "plt.hist(data_positive_skew, bins=30, color='skyblue', edgecolor='black')\n",
        "plt.title('Positive Skewness (Right Skewed)')\n",
        "plt.xlabel('Value')\n",
        "plt.ylabel('Frequency')\n",
        "plt.axvline(np.mean(data_positive_skew), color='red', linestyle='dashed', linewidth=1)\n",
        "\n",
        "# Negative Skewness\n",
        "plt.subplot(1, 2, 2)\n",
        "plt.hist(data_negative_skew, bins=30, color='salmon', edgecolor='black')\n",
        "plt.title('Negative Skewness (Left Skewed)')\n",
        "plt.xlabel('Value')\n",
        "plt.ylabel('Frequency')\n",
        "plt.axvline(np.mean(data_negative_skew), color='red', linestyle='dashed', linewidth=1)\n",
        "\n",
        "plt.tight_layout()\n",
        "plt.show()\n"
      ],
      "metadata": {
        "colab": {
          "base_uri": "https://localhost:8080/",
          "height": 625
        },
        "id": "QQD7D9_4QTUz",
        "outputId": "a2735ae2-8850-4716-ec37-3039884f0fbb"
      },
      "execution_count": null,
      "outputs": [
        {
          "output_type": "stream",
          "name": "stdout",
          "text": [
            "Positive Skewness: 1.865034\n",
            "Negative Skewness: -1.992022\n"
          ]
        },
        {
          "output_type": "display_data",
          "data": {
            "text/plain": [
              "<Figure size 1200x600 with 2 Axes>"
            ],
            "image/png": "[encoded data removed]"
          },
          "metadata": {}
        }
      ]
    },
    {
      "cell_type": "code",
      "source": [
        "#9 Write a Python script to calculate covariance between two datasets?\n",
        "import numpy as np\n",
        "import pandas as pd\n",
        "\n",
        "# Sample datasets\n",
        "data_x = np.array([10, 20, 30, 40, 50])\n",
        "data_y = np.array([15, 25, 35, 45, 55])\n",
        "\n",
        "\n",
        "\n",
        "def calculate_covariance_pandas(x, y):\n",
        "    df = pd.DataFrame({'data_x': x, 'data_y': y})\n",
        "    return df['data_x'].cov(df['data_y'])\n",
        "\n",
        "\n",
        "\n",
        "covariance_pandas = calculate_covariance_pandas(data_x, data_y)\n",
        "\n",
        "\n",
        "\n",
        "print(f\"Covariance between data_x and data_y (using Pandas): {covariance_pandas:.2f}\")\n"
      ],
      "metadata": {
        "colab": {
          "base_uri": "https://localhost:8080/"
        },
        "id": "zxiT_BRuQj2a",
        "outputId": "a4dc5834-eb0e-4aa6-88a1-1ce1232cf2a7"
      },
      "execution_count": null,
      "outputs": [
        {
          "output_type": "stream",
          "name": "stdout",
          "text": [
            "Covariance between data_x and data_y (using Pandas): 250.00\n"
          ]
        }
      ]
    },
    {
      "cell_type": "code",
      "source": [
        "#10 Write a Python script to calculate the correlation coefficient between two datasets?\n",
        "import numpy as np\n",
        "import pandas as pd\n",
        "\n",
        "# Sample datasets\n",
        "data_x = np.array([10, 20, 30, 40, 50])\n",
        "data_y = np.array([15, 25, 35, 45, 55])\n",
        "\n",
        "\n",
        "def calculate_correlation_pandas(x, y):\n",
        "    df = pd.DataFrame({'data_x': x, 'data_y': y})\n",
        "    return df['data_x'].corr(df['data_y'])\n",
        "\n",
        "\n",
        "correlation_pandas = calculate_correlation_pandas(data_x, data_y)\n",
        "\n",
        "\n",
        "print(f\"Correlation coefficient between data_x and data_y (using Pandas): {correlation_pandas:.2f}\")\n"
      ],
      "metadata": {
        "colab": {
          "base_uri": "https://localhost:8080/"
        },
        "id": "318fOcCGRGwL",
        "outputId": "87df7395-cac3-4433-bfed-7534cc10cad1"
      },
      "execution_count": null,
      "outputs": [
        {
          "output_type": "stream",
          "name": "stdout",
          "text": [
            "Correlation coefficient between data_x and data_y (using Pandas): 1.00\n"
          ]
        }
      ]
    },
    {
      "cell_type": "code",
      "source": [
        "#11 Create a scatter plot to visualize the relationship between two variables\n",
        "import matplotlib.pyplot as plt\n",
        "import numpy as np\n",
        "\n",
        "# Sample data\n",
        "x = np.array([5, 7, 8, 7, 2, 17, 2, 9, 4, 11, 12, 9, 6])\n",
        "y = np.array([99, 86, 87, 88, 111, 86, 103, 87, 94, 78, 77, 85, 86])\n",
        "\n",
        "# Create scatter plot\n",
        "plt.scatter(x, y, color='blue', marker='o')\n",
        "\n",
        "# Add titles and labels\n",
        "plt.title('Scatter Plot of X vs Y')\n",
        "plt.xlabel('X values')\n",
        "plt.ylabel('Y values')\n",
        "\n",
        "# Show the plot\n",
        "plt.grid()\n",
        "plt.show()\n"
      ],
      "metadata": {
        "colab": {
          "base_uri": "https://localhost:8080/",
          "height": 472
        },
        "id": "FzWeV9qsRZm5",
        "outputId": "0fc6b7c8-5850-4310-e05a-a027055928bc"
      },
      "execution_count": null,
      "outputs": [
        {
          "output_type": "display_data",
          "data": {
            "text/plain": [
              "<Figure size 640x480 with 1 Axes>"
            ],
            "image/png": "[encoded data removed]"
          },
          "metadata": {}
        }
      ]
    },
    {
      "cell_type": "code",
      "source": [
        "#12 Implement and compare simple random sampling and systematic sampling?\n",
        "import random\n",
        "import time\n",
        "import numpy as np\n",
        "\n",
        "# Generate a population of 1000 elements\n",
        "population_size = 1000\n",
        "population = list(range(1, population_size + 1))  # Example: IDs 1 to 1000\n",
        "sample_size = 100\n",
        "\n",
        "# Simple Random Sampling (SRS)\n",
        "def simple_random_sampling(pop, sample_size):\n",
        "    return random.sample(pop, sample_size)\n",
        "\n",
        "# Systematic Sampling\n",
        "def systematic_sampling(pop, sample_size):\n",
        "    interval = len(pop) // sample_size\n",
        "    start = random.randint(0, interval - 1)\n",
        "    return [pop[i] for i in range(start, len(pop), interval)][:sample_size]\n",
        "\n",
        "# Perform SRS\n",
        "start_time = time.time()\n",
        "srs_sample = simple_random_sampling(population, sample_size)\n",
        "srs_time = time.time() - start_time\n",
        "\n",
        "# Perform Systematic Sampling\n",
        "start_time = time.time()\n",
        "sys_sample = systematic_sampling(population, sample_size)\n",
        "sys_time = time.time() - start_time\n",
        "\n",
        "# Compare sample statistics with population\n",
        "def print_stats(sample, name):\n",
        "    print(f\"{name} Mean: {np.mean(sample):.2f}\")\n",
        "    print(f\"{name} Variance: {np.var(sample):.2f}\")\n",
        "\n",
        "print(\"Population Mean:\", np.mean(population))\n",
        "print(\"Population Variance:\", np.var(population))\n",
        "print_stats(srs_sample, \"SRS\")\n",
        "print_stats(sys_sample, \"Systematic\")\n",
        "print(f\"\\nExecution Time:\\nSRS: {srs_time:.5f}s\\nSystematic: {sys_time:.5f}s\")\n",
        "\n"
      ],
      "metadata": {
        "colab": {
          "base_uri": "https://localhost:8080/"
        },
        "id": "kFebcQstRmhq",
        "outputId": "704dd448-136e-499a-de48-1d671c7e14eb"
      },
      "execution_count": null,
      "outputs": [
        {
          "output_type": "stream",
          "name": "stdout",
          "text": [
            "Population Mean: 500.5\n",
            "Population Variance: 83333.25\n",
            "SRS Mean: 498.77\n",
            "SRS Variance: 94446.46\n",
            "Systematic Mean: 501.00\n",
            "Systematic Variance: 83325.00\n",
            "\n",
            "Execution Time:\n",
            "SRS: 0.00011s\n",
            "Systematic: 0.00007s\n"
          ]
        }
      ]
    },
    {
      "cell_type": "code",
      "source": [
        "#13 Calculate the mean, median, and mode of grouped data?\n",
        "import numpy as np\n",
        "\n",
        "# Sample grouped data\n",
        "class_intervals = [(10, 20), (20, 30), (30, 40), (40, 50)]\n",
        "frequencies = [5, 15, 25, 10]\n",
        "\n",
        "# Calculate midpoints\n",
        "midpoints = [(interval[0] + interval[1]) / 2 for interval in class_intervals]\n",
        "\n",
        "# Calculate Mean\n",
        "mean = sum(midpoint * frequency for midpoint, frequency in zip(midpoints, frequencies)) / sum(frequencies)\n",
        "\n",
        "# Calculate Median\n",
        "total_frequency = sum(frequencies)\n",
        "cumulative_frequencies = np.cumsum(frequencies)\n",
        "median_class_index = np.where(cumulative_frequencies >= total_frequency / 2)[0][0]\n",
        "L = class_intervals[median_class_index][0]  # Lower boundary of median class\n",
        "n = total_frequency\n",
        "B = cumulative_frequencies[median_class_index - 1] if median_class_index > 0 else 0\n",
        "G = frequencies[median_class_index]\n",
        "w = class_intervals[median_class_index][1] - class_intervals[median_class_index][0]  # Width of median class\n",
        "\n",
        "median = L + ((n / 2) - B) * w / G\n",
        "\n",
        "# Calculate Mode\n",
        "modal_class_index = np.argmax(frequencies)\n",
        "L_mode = class_intervals[modal_class_index][0]  # Lower boundary of modal class\n",
        "f_m_minus_1 = frequencies[modal_class_index - 1] if modal_class_index > 0 else 0\n",
        "f_m = frequencies[modal_class_index]\n",
        "f_m_plus_1 = frequencies[modal_class_index + 1] if modal_class_index < len(frequencies) - 1 else 0\n",
        "w_mode = class_intervals[modal_class_index][1] - class_intervals[modal_class_index][0]  # Width of modal class\n",
        "\n",
        "mode = L_mode + ((f_m - f_m_minus_1) / ((f_m - f_m_minus_1) + (f_m - f_m_plus_1))) * w_mode\n",
        "\n",
        "# Output results\n",
        "print(f\"Mean: {mean:.2f}\")\n",
        "print(f\"Median: {median:.2f}\")\n",
        "print(f\"Mode: {mode:.2f}\")\n"
      ],
      "metadata": {
        "colab": {
          "base_uri": "https://localhost:8080/"
        },
        "id": "ObOJBBSXSI9R",
        "outputId": "2ecfcca4-80e1-4e4e-f8cc-5449ab0dd929"
      },
      "execution_count": null,
      "outputs": [
        {
          "output_type": "stream",
          "name": "stdout",
          "text": [
            "Mean: 32.27\n",
            "Median: 33.00\n",
            "Mode: 34.00\n"
          ]
        }
      ]
    },
    {
      "cell_type": "code",
      "source": [
        "#14 Simulate data using Python and calculate its central tendency and dispersion.\n",
        "import numpy as np\n",
        "import pandas as pd\n",
        "from scipy import stats\n",
        "import matplotlib.pyplot as plt\n",
        "import seaborn as sns\n",
        "\n",
        "# Simulate skewed data (e.g., household incomes)\n",
        "np.random.seed(42)\n",
        "data = np.random.lognormal(mean=0, sigma=0.4, size=1000)  # Skewed dataset\n",
        "df = pd.DataFrame(data, columns=['Values'])\n",
        "\n",
        "# Calculate central tendency\n",
        "mean = np.mean(data)\n",
        "median = np.median(data)\n",
        "mode = stats.mode(data, keepdims=True).mode[0]  # For continuous data, mode may not be meaningful\n",
        "\n",
        "# Calculate dispersion\n",
        "std_dev = np.std(data)\n",
        "variance = np.var(data)\n",
        "data_range = np.ptp(data)  # Peak-to-peak (max - min)\n",
        "iqr = stats.iqr(data)  # Interquartile range (Q3 - Q1)\n",
        "\n",
        "# Print results\n",
        "print(\"=== Central Tendency ===\")\n",
        "print(f\"Mean: {mean:.2f}\")\n",
        "print(f\"Median: {median:.2f}\")\n",
        "print(f\"Mode: {mode:.2f} (Note: Mode is less meaningful for continuous data)\\n\")\n",
        "\n",
        "print(\"=== Dispersion ===\")\n",
        "print(f\"Standard Deviation: {std_dev:.2f}\")\n",
        "print(f\"Variance: {variance:.2f}\")\n",
        "print(f\"Range: {data_range:.2f}\")\n",
        "print(f\"IQR (Q3-Q1): {iqr:.2f}\")\n",
        "\n",
        "# Visualize the distribution\n",
        "plt.figure(figsize=(10, 6))\n",
        "sns.histplot(data, kde=True, color='skyblue', bins=30)\n",
        "plt.axvline(mean, color='r', linestyle='--', label=f'Mean: {mean:.2f}')\n",
        "plt.axvline(median, color='g', linestyle=':', label=f'Median: {median:.2f}')\n",
        "plt.axvline(mode, color='orange', linestyle='-.', label=f'Mode: {mode:.2f}')\n",
        "plt.title(\"Data Distribution with Central Tendency\")\n",
        "plt.xlabel(\"Values\")\n",
        "plt.legend()\n",
        "plt.show()\n",
        "\n"
      ],
      "metadata": {
        "colab": {
          "base_uri": "https://localhost:8080/",
          "height": 738
        },
        "id": "ahRlXQjpSeoA",
        "outputId": "6d81c14a-43fb-4e78-ea13-038d59898af1"
      },
      "execution_count": null,
      "outputs": [
        {
          "output_type": "stream",
          "name": "stdout",
          "text": [
            "=== Central Tendency ===\n",
            "Mean: 1.09\n",
            "Median: 1.01\n",
            "Mode: 0.27 (Note: Mode is less meaningful for continuous data)\n",
            "\n",
            "=== Dispersion ===\n",
            "Standard Deviation: 0.46\n",
            "Variance: 0.21\n",
            "Range: 4.40\n",
            "IQR (Q3-Q1): 0.52\n"
          ]
        },
        {
          "output_type": "display_data",
          "data": {
            "text/plain": [
              "<Figure size 1000x600 with 1 Axes>"
            ],
            "image/png": "[encoded data removed]"
          },
          "metadata": {}
        }
      ]
    },
    {
      "cell_type": "code",
      "source": [
        "#15 Use NumPy or pandas to summarize a dataset’s descriptive statistics.\n",
        "import pandas as pd\n",
        "import numpy as np\n",
        "\n",
        "# Create a sample dataset\n",
        "data = {\n",
        "    'Age': [25, 30, 35, 40, 45, 50, 55, 60, 65, 70],\n",
        "    'Salary': [50000, 60000, 65000, 70000, 80000, 85000, 90000, 95000, 100000, 110000],\n",
        "    'Department': ['HR', 'IT', 'IT', 'HR', 'Finance', 'Finance', 'IT', 'HR', 'Finance', 'IT']\n",
        "}\n",
        "\n",
        "# Create a DataFrame\n",
        "df = pd.DataFrame(data)\n",
        "\n",
        "# Generate descriptive statistics\n",
        "descriptive_stats = df.describe(include='all')\n",
        "\n",
        "# Print the descriptive statistics\n",
        "print(descriptive_stats)\n"
      ],
      "metadata": {
        "colab": {
          "base_uri": "https://localhost:8080/"
        },
        "id": "6a3eUhjMTGhH",
        "outputId": "40ddd4cc-112b-4c9d-d885-2c8c303dfb55"
      },
      "execution_count": null,
      "outputs": [
        {
          "output_type": "stream",
          "name": "stdout",
          "text": [
            "              Age         Salary Department\n",
            "count   10.000000      10.000000         10\n",
            "unique        NaN            NaN          3\n",
            "top           NaN            NaN         IT\n",
            "freq          NaN            NaN          4\n",
            "mean    47.500000   80500.000000        NaN\n",
            "std     15.138252   19068.589647        NaN\n",
            "min     25.000000   50000.000000        NaN\n",
            "25%     36.250000   66250.000000        NaN\n",
            "50%     47.500000   82500.000000        NaN\n",
            "75%     58.750000   93750.000000        NaN\n",
            "max     70.000000  110000.000000        NaN\n"
          ]
        }
      ]
    },
    {
      "cell_type": "code",
      "source": [
        "#16  Plot a boxplot to understand the spread and identify outliers\n",
        "import pandas as pd\n",
        "import numpy as np\n",
        "import seaborn as sns\n",
        "import matplotlib.pyplot as plt\n",
        "\n",
        "# Create a sample dataset\n",
        "np.random.seed(42)\n",
        "data = {\n",
        "    'Age': np.random.randint(20, 70, size=100),  # Random ages between 20 and 70\n",
        "    'Salary': np.random.lognormal(mean=10, sigma=0.5, size=100)  # Log-normal distribution for salary\n",
        "}\n",
        "\n",
        "# Create a DataFrame\n",
        "df = pd.DataFrame(data)\n",
        "\n",
        "# Plotting the boxplot for Salary\n",
        "plt.figure(figsize=(10, 6))\n",
        "sns.boxplot(x=df['Salary'])\n",
        "plt.title('Boxplot of Salary')\n",
        "plt.xlabel('Salary')\n",
        "plt.grid(axis='x')\n",
        "plt.show()\n"
      ],
      "metadata": {
        "colab": {
          "base_uri": "https://localhost:8080/",
          "height": 564
        },
        "id": "k6cC26MKTfHj",
        "outputId": "dbec2ea4-452a-4cef-960f-f0c21478dff0"
      },
      "execution_count": null,
      "outputs": [
        {
          "output_type": "display_data",
          "data": {
            "text/plain": [
              "<Figure size 1000x600 with 1 Axes>"
            ],
            "image/png": "[encoded data removed]"
          },
          "metadata": {}
        }
      ]
    },
    {
      "cell_type": "code",
      "source": [
        "#17  Calculate the interquartile range (IQR) of a dataset.\n",
        "import numpy as np\n",
        "import pandas as pd\n",
        "\n",
        "\n",
        "data = [12, 15, 14, 10, 18, 20, 22, 25, 30, 35]\n",
        "\n",
        "\n",
        "def calculate_iqr_pandas(data):\n",
        "    series = pd.Series(data)\n",
        "    q1 = series.quantile(0.25)\n",
        "    q3 = series.quantile(0.75)\n",
        "    iqr = q3 - q1\n",
        "    return q1, q3, iqr\n",
        "\n",
        "\n",
        "q1_pandas, q3_pandas, iqr_pandas = calculate_iqr_pandas(data)\n",
        "\n",
        "\n",
        "print(f\"Using Pandas: Q1 = {q1_pandas}, Q3 = {q3_pandas}, IQR = {iqr_pandas}\")\n"
      ],
      "metadata": {
        "colab": {
          "base_uri": "https://localhost:8080/"
        },
        "id": "sKa01KOaTrEM",
        "outputId": "a8b337c9-ac77-4a17-f359-f6378a9c1906"
      },
      "execution_count": null,
      "outputs": [
        {
          "output_type": "stream",
          "name": "stdout",
          "text": [
            "Using Pandas: Q1 = 14.25, Q3 = 24.25, IQR = 10.0\n"
          ]
        }
      ]
    },
    {
      "cell_type": "code",
      "source": [
        "#18 Implement Z-score normalization and explain its significance\n",
        "import numpy as np\n",
        "\n",
        "# Sample data\n",
        "data = np.array([10, 20, 30, 40, 50])\n",
        "\n",
        "# Z-score normalization function\n",
        "def zscore_normalize(data):\n",
        "    mean = np.mean(data)\n",
        "    std_dev = np.std(data)\n",
        "    normalized_data = (data - mean) / std_dev\n",
        "    return normalized_data\n",
        "\n",
        "# Normalize the data\n",
        "normalized_data = zscore_normalize(data)\n",
        "\n",
        "print(\"Original Data:\", data)\n",
        "print(\"Normalized Data (Z-scores):\", normalized_data)\n",
        "\n",
        "#Z-score normalization is a vital preprocessing step in many statistical analyses and machine learning workflows. By transforming your data to have a mean of 0 and a standard deviation of 1, you ensure that all features contribute equally to distance calculations and model training processes. This technique helps improve model accuracy and interpretability significantly.\n"
      ],
      "metadata": {
        "colab": {
          "base_uri": "https://localhost:8080/"
        },
        "id": "JQvCWkGDT8Zi",
        "outputId": "18135770-d52a-4ff4-aa39-9a2f5dcad4d3"
      },
      "execution_count": null,
      "outputs": [
        {
          "output_type": "stream",
          "name": "stdout",
          "text": [
            "Original Data: [10 20 30 40 50]\n",
            "Normalized Data (Z-scores): [-1.41421356 -0.70710678  0.          0.70710678  1.41421356]\n"
          ]
        }
      ]
    },
    {
      "cell_type": "code",
      "source": [
        "#19 Compare two datasets using their standard deviations\n",
        "import numpy as np\n",
        "\n",
        "# Sample datasets\n",
        "data1 = np.array([68, 70, 71, 72, 74, 74, 78, 82, 83, 88, 90, 92, 93, 96, 97])\n",
        "data2 = np.array([77, 80, 81, 81, 82, 83, 83, 84, 84, 85, 88, 89, 90, 92, 95])\n",
        "\n",
        "# Calculate means\n",
        "mean1 = np.mean(data1)\n",
        "mean2 = np.mean(data2)\n",
        "\n",
        "# Calculate standard deviations\n",
        "std_dev1 = np.std(data1)\n",
        "std_dev2 = np.std(data2)\n",
        "\n",
        "# Print results\n",
        "print(f\"Dataset 1: Mean = {mean1:.2f}, Standard Deviation = {std_dev1:.2f}\")\n",
        "print(f\"Dataset 2: Mean = {mean2:.2f}, Standard Deviation = {std_dev2:.2f}\")\n",
        "\n",
        "# Compare standard deviations\n",
        "if std_dev1 < std_dev2:\n",
        "    print(\"Dataset 1 has less variability than Dataset 2.\")\n",
        "elif std_dev1 > std_dev2:\n",
        "    print(\"Dataset 1 has more variability than Dataset 2.\")\n",
        "else:\n",
        "    print(\"Both datasets have equal variability.\")\n"
      ],
      "metadata": {
        "colab": {
          "base_uri": "https://localhost:8080/"
        },
        "id": "wEsKoZFcUcRL",
        "outputId": "943d4b44-d369-4033-e627-7fbf8e76cd58"
      },
      "execution_count": null,
      "outputs": [
        {
          "output_type": "stream",
          "name": "stdout",
          "text": [
            "Dataset 1: Mean = 81.87, Standard Deviation = 9.82\n",
            "Dataset 2: Mean = 84.93, Standard Deviation = 4.75\n",
            "Dataset 1 has more variability than Dataset 2.\n"
          ]
        }
      ]
    },
    {
      "cell_type": "code",
      "source": [
        "#20 Write a Python program to visualize covariance using a heatmap?\n",
        "import numpy as np\n",
        "import pandas as pd\n",
        "import seaborn as sns\n",
        "import matplotlib.pyplot as plt\n",
        "\n",
        "# Generate sample data\n",
        "np.random.seed(42)\n",
        "data = pd.DataFrame(np.random.randn(100, 5), columns=['A', 'B', 'C', 'D', 'E'])\n",
        "\n",
        "# Calculate the covariance matrix\n",
        "cov_matrix = data.cov()\n",
        "\n",
        "# Set up the matplotlib figure\n",
        "plt.figure(figsize=(10, 8))\n",
        "\n",
        "# Create a heatmap using seaborn\n",
        "sns.heatmap(cov_matrix, annot=True, fmt=\".2f\", cmap='coolwarm', square=True,\n",
        "            cbar_kws={\"shrink\": .8}, linewidths=0.5)\n",
        "\n",
        "# Add titles and labels\n",
        "plt.title('Covariance Matrix Heatmap')\n",
        "plt.xlabel('Variables')\n",
        "plt.ylabel('Variables')\n",
        "\n",
        "# Show the plot\n",
        "plt.show()\n"
      ],
      "metadata": {
        "colab": {
          "base_uri": "https://localhost:8080/",
          "height": 718
        },
        "id": "-vr1LxyHUowA",
        "outputId": "cb49b762-dd62-4716-e295-be2483abb2b2"
      },
      "execution_count": null,
      "outputs": [
        {
          "output_type": "display_data",
          "data": {
            "text/plain": [
              "<Figure size 1000x800 with 2 Axes>"
            ],
            "image/png": "[encoded data removed]"
          },
          "metadata": {}
        }
      ]
    },
    {
      "cell_type": "code",
      "source": [
        "#21  Use seaborn to create a correlation matrix for a dataset\n",
        "import seaborn as sns\n",
        "import matplotlib.pyplot as plt\n",
        "\n",
        "# Load the Iris dataset\n",
        "df = sns.load_dataset('iris')\n",
        "\n",
        "# Calculate the correlation matrix\n",
        "correlation_matrix = df.corr()\n",
        "\n",
        "# Set up the matplotlib figure\n",
        "plt.figure(figsize=(10, 8))\n",
        "\n",
        "# Create a heatmap using seaborn\n",
        "sns.heatmap(correlation_matrix, annot=True, fmt=\".2f\", cmap='coolwarm', square=True,\n",
        "            cbar_kws={\"shrink\": .8}, linewidths=0.5)\n",
        "\n",
        "# Add titles and labels\n",
        "plt.title('Correlation Matrix Heatmap')\n",
        "plt.xlabel('Variables')\n",
        "plt.ylabel('Variables')\n",
        "\n",
        "# Show the plot\n",
        "plt.show()\n"
      ],
      "metadata": {
        "colab": {
          "base_uri": "https://localhost:8080/",
          "height": 356
        },
        "id": "UtYctCSRU236",
        "outputId": "f3ca7482-15bb-4763-e5c8-7f320ca18eaa"
      },
      "execution_count": null,
      "outputs": [
        {
          "output_type": "error",
          "ename": "ValueError",
          "evalue": "could not convert string to float: 'setosa'",
          "traceback": [
            "\u001b[0;31m---------------------------------------------------------------------------\u001b[0m",
            "\u001b[0;31mValueError\u001b[0m                                Traceback (most recent call last)",
            "\u001b[0;32m<ipython-input-46-ed8e95b6a4ea>\u001b[0m in \u001b[0;36m<cell line: 0>\u001b[0;34m()\u001b[0m\n\u001b[1;32m      7\u001b[0m \u001b[0;34m\u001b[0m\u001b[0m\n\u001b[1;32m      8\u001b[0m \u001b[0;31m# Calculate the correlation matrix\u001b[0m\u001b[0;34m\u001b[0m\u001b[0;34m\u001b[0m\u001b[0m\n\u001b[0;32m----> 9\u001b[0;31m \u001b[0mcorrelation_matrix\u001b[0m \u001b[0;34m=\u001b[0m \u001b[0mdf\u001b[0m\u001b[0;34m.\u001b[0m\u001b[0mcorr\u001b[0m\u001b[0;34m(\u001b[0m\u001b[0;34m)\u001b[0m\u001b[0;34m\u001b[0m\u001b[0;34m\u001b[0m\u001b[0m\n\u001b[0m\u001b[1;32m     10\u001b[0m \u001b[0;34m\u001b[0m\u001b[0m\n\u001b[1;32m     11\u001b[0m \u001b[0;31m# Set up the matplotlib figure\u001b[0m\u001b[0;34m\u001b[0m\u001b[0;34m\u001b[0m\u001b[0m\n",
            "\u001b[0;32m/usr/local/lib/python3.11/dist-packages/pandas/core/frame.py\u001b[0m in \u001b[0;36mcorr\u001b[0;34m(self, method, min_periods, numeric_only)\u001b[0m\n\u001b[1;32m  11047\u001b[0m         \u001b[0mcols\u001b[0m \u001b[0;34m=\u001b[0m \u001b[0mdata\u001b[0m\u001b[0;34m.\u001b[0m\u001b[0mcolumns\u001b[0m\u001b[0;34m\u001b[0m\u001b[0;34m\u001b[0m\u001b[0m\n\u001b[1;32m  11048\u001b[0m         \u001b[0midx\u001b[0m \u001b[0;34m=\u001b[0m \u001b[0mcols\u001b[0m\u001b[0;34m.\u001b[0m\u001b[0mcopy\u001b[0m\u001b[0;34m(\u001b[0m\u001b[0;34m)\u001b[0m\u001b[0;34m\u001b[0m\u001b[0;34m\u001b[0m\u001b[0m\n\u001b[0;32m> 11049\u001b[0;31m         \u001b[0mmat\u001b[0m \u001b[0;34m=\u001b[0m \u001b[0mdata\u001b[0m\u001b[0;34m.\u001b[0m\u001b[0mto_numpy\u001b[0m\u001b[0;34m(\u001b[0m\u001b[0mdtype\u001b[0m\u001b[0;34m=\u001b[0m\u001b[0mfloat\u001b[0m\u001b[0;34m,\u001b[0m \u001b[0mna_value\u001b[0m\u001b[0;34m=\u001b[0m\u001b[0mnp\u001b[0m\u001b[0;34m.\u001b[0m\u001b[0mnan\u001b[0m\u001b[0;34m,\u001b[0m \u001b[0mcopy\u001b[0m\u001b[0;34m=\u001b[0m\u001b[0;32mFalse\u001b[0m\u001b[0;34m)\u001b[0m\u001b[0;34m\u001b[0m\u001b[0;34m\u001b[0m\u001b[0m\n\u001b[0m\u001b[1;32m  11050\u001b[0m \u001b[0;34m\u001b[0m\u001b[0m\n\u001b[1;32m  11051\u001b[0m         \u001b[0;32mif\u001b[0m \u001b[0mmethod\u001b[0m \u001b[0;34m==\u001b[0m \u001b[0;34m\"pearson\"\u001b[0m\u001b[0;34m:\u001b[0m\u001b[0;34m\u001b[0m\u001b[0;34m\u001b[0m\u001b[0m\n",
            "\u001b[0;32m/usr/local/lib/python3.11/dist-packages/pandas/core/frame.py\u001b[0m in \u001b[0;36mto_numpy\u001b[0;34m(self, dtype, copy, na_value)\u001b[0m\n\u001b[1;32m   1991\u001b[0m         \u001b[0;32mif\u001b[0m \u001b[0mdtype\u001b[0m \u001b[0;32mis\u001b[0m \u001b[0;32mnot\u001b[0m \u001b[0;32mNone\u001b[0m\u001b[0;34m:\u001b[0m\u001b[0;34m\u001b[0m\u001b[0;34m\u001b[0m\u001b[0m\n\u001b[1;32m   1992\u001b[0m             \u001b[0mdtype\u001b[0m \u001b[0;34m=\u001b[0m \u001b[0mnp\u001b[0m\u001b[0;34m.\u001b[0m\u001b[0mdtype\u001b[0m\u001b[0;34m(\u001b[0m\u001b[0mdtype\u001b[0m\u001b[0;34m)\u001b[0m\u001b[0;34m\u001b[0m\u001b[0;34m\u001b[0m\u001b[0m\n\u001b[0;32m-> 1993\u001b[0;31m         \u001b[0mresult\u001b[0m \u001b[0;34m=\u001b[0m \u001b[0mself\u001b[0m\u001b[0;34m.\u001b[0m\u001b[0m_mgr\u001b[0m\u001b[0;34m.\u001b[0m\u001b[0mas_array\u001b[0m\u001b[0;34m(\u001b[0m\u001b[0mdtype\u001b[0m\u001b[0;34m=\u001b[0m\u001b[0mdtype\u001b[0m\u001b[0;34m,\u001b[0m \u001b[0mcopy\u001b[0m\u001b[0;34m=\u001b[0m\u001b[0mcopy\u001b[0m\u001b[0;34m,\u001b[0m \u001b[0mna_value\u001b[0m\u001b[0;34m=\u001b[0m\u001b[0mna_value\u001b[0m\u001b[0;34m)\u001b[0m\u001b[0;34m\u001b[0m\u001b[0;34m\u001b[0m\u001b[0m\n\u001b[0m\u001b[1;32m   1994\u001b[0m         \u001b[0;32mif\u001b[0m \u001b[0mresult\u001b[0m\u001b[0;34m.\u001b[0m\u001b[0mdtype\u001b[0m \u001b[0;32mis\u001b[0m \u001b[0;32mnot\u001b[0m \u001b[0mdtype\u001b[0m\u001b[0;34m:\u001b[0m\u001b[0;34m\u001b[0m\u001b[0;34m\u001b[0m\u001b[0m\n\u001b[1;32m   1995\u001b[0m             \u001b[0mresult\u001b[0m \u001b[0;34m=\u001b[0m \u001b[0mnp\u001b[0m\u001b[0;34m.\u001b[0m\u001b[0masarray\u001b[0m\u001b[0;34m(\u001b[0m\u001b[0mresult\u001b[0m\u001b[0;34m,\u001b[0m \u001b[0mdtype\u001b[0m\u001b[0;34m=\u001b[0m\u001b[0mdtype\u001b[0m\u001b[0;34m)\u001b[0m\u001b[0;34m\u001b[0m\u001b[0;34m\u001b[0m\u001b[0m\n",
            "\u001b[0;32m/usr/local/lib/python3.11/dist-packages/pandas/core/internals/managers.py\u001b[0m in \u001b[0;36mas_array\u001b[0;34m(self, dtype, copy, na_value)\u001b[0m\n\u001b[1;32m   1692\u001b[0m                 \u001b[0marr\u001b[0m\u001b[0;34m.\u001b[0m\u001b[0mflags\u001b[0m\u001b[0;34m.\u001b[0m\u001b[0mwriteable\u001b[0m \u001b[0;34m=\u001b[0m \u001b[0;32mFalse\u001b[0m\u001b[0;34m\u001b[0m\u001b[0;34m\u001b[0m\u001b[0m\n\u001b[1;32m   1693\u001b[0m         \u001b[0;32melse\u001b[0m\u001b[0;34m:\u001b[0m\u001b[0;34m\u001b[0m\u001b[0;34m\u001b[0m\u001b[0m\n\u001b[0;32m-> 1694\u001b[0;31m             \u001b[0marr\u001b[0m \u001b[0;34m=\u001b[0m \u001b[0mself\u001b[0m\u001b[0;34m.\u001b[0m\u001b[0m_interleave\u001b[0m\u001b[0;34m(\u001b[0m\u001b[0mdtype\u001b[0m\u001b[0;34m=\u001b[0m\u001b[0mdtype\u001b[0m\u001b[0;34m,\u001b[0m \u001b[0mna_value\u001b[0m\u001b[0;34m=\u001b[0m\u001b[0mna_value\u001b[0m\u001b[0;34m)\u001b[0m\u001b[0;34m\u001b[0m\u001b[0;34m\u001b[0m\u001b[0m\n\u001b[0m\u001b[1;32m   1695\u001b[0m             \u001b[0;31m# The underlying data was copied within _interleave, so no need\u001b[0m\u001b[0;34m\u001b[0m\u001b[0;34m\u001b[0m\u001b[0m\n\u001b[1;32m   1696\u001b[0m             \u001b[0;31m# to further copy if copy=True or setting na_value\u001b[0m\u001b[0;34m\u001b[0m\u001b[0;34m\u001b[0m\u001b[0m\n",
            "\u001b[0;32m/usr/local/lib/python3.11/dist-packages/pandas/core/internals/managers.py\u001b[0m in \u001b[0;36m_interleave\u001b[0;34m(self, dtype, na_value)\u001b[0m\n\u001b[1;32m   1751\u001b[0m             \u001b[0;32melse\u001b[0m\u001b[0;34m:\u001b[0m\u001b[0;34m\u001b[0m\u001b[0;34m\u001b[0m\u001b[0m\n\u001b[1;32m   1752\u001b[0m                 \u001b[0marr\u001b[0m \u001b[0;34m=\u001b[0m \u001b[0mblk\u001b[0m\u001b[0;34m.\u001b[0m\u001b[0mget_values\u001b[0m\u001b[0;34m(\u001b[0m\u001b[0mdtype\u001b[0m\u001b[0;34m)\u001b[0m\u001b[0;34m\u001b[0m\u001b[0;34m\u001b[0m\u001b[0m\n\u001b[0;32m-> 1753\u001b[0;31m             \u001b[0mresult\u001b[0m\u001b[0;34m[\u001b[0m\u001b[0mrl\u001b[0m\u001b[0;34m.\u001b[0m\u001b[0mindexer\u001b[0m\u001b[0;34m]\u001b[0m \u001b[0;34m=\u001b[0m \u001b[0marr\u001b[0m\u001b[0;34m\u001b[0m\u001b[0;34m\u001b[0m\u001b[0m\n\u001b[0m\u001b[1;32m   1754\u001b[0m             \u001b[0mitemmask\u001b[0m\u001b[0;34m[\u001b[0m\u001b[0mrl\u001b[0m\u001b[0;34m.\u001b[0m\u001b[0mindexer\u001b[0m\u001b[0;34m]\u001b[0m \u001b[0;34m=\u001b[0m \u001b[0;36m1\u001b[0m\u001b[0;34m\u001b[0m\u001b[0;34m\u001b[0m\u001b[0m\n\u001b[1;32m   1755\u001b[0m \u001b[0;34m\u001b[0m\u001b[0m\n",
            "\u001b[0;31mValueError\u001b[0m: could not convert string to float: 'setosa'"
          ]
        }
      ]
    },
    {
      "cell_type": "code",
      "source": [
        "#22 Generate a dataset and implement both variance and standard deviation computations\n",
        "import numpy as np\n",
        "\n",
        "# Set a seed for reproducibility\n",
        "np.random.seed(42)\n",
        "\n",
        "# Generate a random dataset of 100 values from a normal distribution\n",
        "data = np.random.normal(loc=50, scale=10, size=100)  # mean=50, stddev=10\n",
        "\n",
        "# Calculate variance\n",
        "variance = np.var(data)\n",
        "\n",
        "# Calculate standard deviation\n",
        "std_deviation = np.std(data)\n",
        "\n",
        "# Print results\n",
        "print(\"Generated Data (first 10 values):\", data[:10])\n",
        "print(f\"Variance: {variance:.2f}\")\n",
        "print(f\"Standard Deviation: {std_deviation:.2f}\")\n"
      ],
      "metadata": {
        "id": "OWefOheeVMJR"
      },
      "execution_count": null,
      "outputs": []
    },
    {
      "cell_type": "code",
      "source": [
        "#23 Visualize skewness and kurtosis using Python libraries like matplotlib or seaborn\n",
        "import numpy as np\n",
        "import pandas as pd\n",
        "import seaborn as sns\n",
        "import matplotlib.pyplot as plt\n",
        "from scipy.stats import skew, kurtosis\n",
        "\n",
        "# Set a random seed for reproducibility\n",
        "np.random.seed(42)\n",
        "\n",
        "# Generate a sample dataset with positive skewness\n",
        "data = np.random.lognormal(mean=0, sigma=1, size=1000)  # Log-normal distribution\n",
        "\n",
        "# Calculate skewness and kurtosis\n",
        "data_skewness = skew(data)\n",
        "data_kurtosis = kurtosis(data)\n",
        "\n",
        "# Print the results\n",
        "print(f\"Skewness: {data_skewness:.2f}\")\n",
        "print(f\"Kurtosis: {data_kurtosis:.2f}\")\n",
        "\n",
        "# Visualize the data using Seaborn\n",
        "plt.figure(figsize=(12, 6))\n",
        "\n",
        "# KDE Plot\n",
        "plt.subplot(1, 2, 1)\n",
        "sns.kdeplot(data, color='blue', fill=True)\n",
        "plt.title('KDE Plot of the Data')\n",
        "plt.xlabel('Value')\n",
        "plt.ylabel('Density')\n",
        "\n",
        "# Histogram\n",
        "plt.subplot(1, 2, 2)\n",
        "sns.histplot(data, bins=30, kde=True, color='orange')\n",
        "plt.title('Histogram of the Data')\n",
        "plt.xlabel('Value')\n",
        "plt.ylabel('Frequency')\n",
        "\n",
        "# Show the plots\n",
        "plt.tight_layout()\n",
        "plt.show()\n"
      ],
      "metadata": {
        "id": "nvSuu6-BVZAB"
      },
      "execution_count": null,
      "outputs": []
    },
    {
      "cell_type": "code",
      "source": [
        "#24  Implement the Pearson and Spearman correlation coefficients for a dataset.\n",
        "import numpy as np\n",
        "import pandas as pd\n",
        "from scipy.stats import pearsonr, spearmanr\n",
        "\n",
        "# Generate a sample dataset\n",
        "np.random.seed(42)\n",
        "x = np.random.rand(100)  # 100 random values for x\n",
        "y = 2 * x + np.random.normal(0, 0.1, 100)  # y is linearly dependent on x with some noise\n",
        "\n",
        "# Create a DataFrame\n",
        "data = pd.DataFrame({'X': x, 'Y': y})\n",
        "\n",
        "# Calculate Pearson correlation coefficient\n",
        "pearson_corr, pearson_p_value = pearsonr(data['X'], data['Y'])\n",
        "\n",
        "# Calculate Spearman correlation coefficient\n",
        "spearman_corr, spearman_p_value = spearmanr(data['X'], data['Y'])\n",
        "\n",
        "# Print results\n",
        "print(f\"Pearson Correlation Coefficient: {pearson_corr:.4f}, p-value: {pearson_p_value:.4f}\")\n",
        "print(f\"Spearman Correlation Coefficient: {spearman_corr:.4f}, p-value: {spearman_p_value:.4f}\")\n"
      ],
      "metadata": {
        "id": "ELaitrAKVvAJ"
      },
      "execution_count": null,
      "outputs": []
    }
  ]
}